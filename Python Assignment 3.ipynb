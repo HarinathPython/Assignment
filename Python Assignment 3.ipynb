{
 "cells": [
  {
   "cell_type": "markdown",
   "metadata": {},
   "source": [
    "### Q1. Why are functions advantageous to have in your programs?\n",
    "Ans:\n",
    "\n",
    "- Using functions, we can avoid rewriting the same logic/code again and again in a program.\n",
    "- We can call function mutiple times anywhere in program\n",
    "- It helps to divide the large programs into small groups so that we can read the code, and debug the program faster and better.\n",
    "- Reusability is main achivement in python functions."
   ]
  },
  {
   "cell_type": "markdown",
   "metadata": {},
   "source": [
    "### Q2. When does the code in a function run: when it's specified or when it's called?\n",
    "\n",
    "Ans:\n",
    "\n",
    "-The code in function run when it is called "
   ]
  },
  {
   "cell_type": "markdown",
   "metadata": {},
   "source": [
    "### Q3. What statement creates a function?\n",
    "\n",
    "Ans: 'def' statement followed by function name and parentheses."
   ]
  },
  {
   "cell_type": "markdown",
   "metadata": {},
   "source": [
    "### Q4. What is the difference between a function and a function call?\n",
    "\n",
    "Ans: Fucntion is a part of a program defined separately outside the program where as the function call is calling the defined function in the program."
   ]
  },
  {
   "cell_type": "markdown",
   "metadata": {},
   "source": [
    "### Q5. How many global scopes are there in a Python program? How many local scopes?\n",
    "\n",
    "Ans:\n",
    "- There can be only one global scope in python program and Multiple local scopes can be there in same time."
   ]
  },
  {
   "cell_type": "markdown",
   "metadata": {},
   "source": [
    "### Q6. What happens to variables in a local scope when the function call returns?\n",
    "\n",
    "Ans: When the function returns, the local scope is destroyed and these variables are forgotten. The next time you call this function, the local variables will not remember the values stored in them from the last time the function was called."
   ]
  },
  {
   "cell_type": "markdown",
   "metadata": {},
   "source": [
    "### Q7. What is the concept of a return value? Is it possible to have a return value in an expression?\n",
    "\n",
    "Ans: The value that a function call evaluates to is called the return value of the function. Yes it is possible to have a\n",
    "return value in an expression."
   ]
  },
  {
   "cell_type": "markdown",
   "metadata": {},
   "source": [
    "### Q8. If a function does not have a return statement, what is the return value of a call to that function?\n",
    "\n",
    "Ans:Python adds return None to the end of any function definition with no return statement."
   ]
  },
  {
   "cell_type": "markdown",
   "metadata": {},
   "source": [
    "### Q9. How do you make a function variable refer to the global variable?\n",
    "\n",
    "Ans: By using the global statement in function we can refer function variable to global variable"
   ]
  },
  {
   "cell_type": "code",
   "execution_count": 1,
   "metadata": {},
   "outputs": [
    {
     "data": {
      "text/plain": [
       "NoneType"
      ]
     },
     "execution_count": 1,
     "metadata": {},
     "output_type": "execute_result"
    }
   ],
   "source": [
    "# Q10. What is the data type of None?\n",
    "\n",
    "type(None)"
   ]
  },
  {
   "cell_type": "markdown",
   "metadata": {},
   "source": [
    "### Q11. What does the import areallyourpetsnamederic statement do?\n",
    "\n",
    "ANS: That import statement imports a module named areallyourpetsnamederic."
   ]
  },
  {
   "cell_type": "markdown",
   "metadata": {},
   "source": [
    "### Q12. If you had a bacon() feature in a spam module, what would you call it after importing spam?\n",
    "\n",
    "Ans: spam.bacon()"
   ]
  },
  {
   "cell_type": "markdown",
   "metadata": {},
   "source": [
    "### Q13. What can you do to save a programme from crashing if it encounters an error?\n",
    "\n",
    "Ans: We use Exception Handling to save a program from crashing if it encounters an error."
   ]
  },
  {
   "cell_type": "markdown",
   "metadata": {},
   "source": [
    "### Q14. What is the purpose of the try clause? What is the purpose of the except clause?\n",
    "\n",
    "Ans: The code that could potentially have an error is put in a try clause. When code in a try clause causes an error, the program execution immediately moves to the code in the except clause. After running that code, the execution continues as normal."
   ]
  },
  {
   "cell_type": "code",
   "execution_count": null,
   "metadata": {},
   "outputs": [],
   "source": []
  }
 ],
 "metadata": {
  "kernelspec": {
   "display_name": "Python 3",
   "language": "python",
   "name": "python3"
  },
  "language_info": {
   "codemirror_mode": {
    "name": "ipython",
    "version": 3
   },
   "file_extension": ".py",
   "mimetype": "text/x-python",
   "name": "python",
   "nbconvert_exporter": "python",
   "pygments_lexer": "ipython3",
   "version": "3.8.3"
  }
 },
 "nbformat": 4,
 "nbformat_minor": 4
}
