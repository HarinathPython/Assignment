{
 "cells": [
  {
   "cell_type": "code",
   "execution_count": 3,
   "metadata": {},
   "outputs": [
    {
     "name": "stdout",
     "output_type": "stream",
     "text": [
      "False\n",
      "True\n"
     ]
    }
   ],
   "source": [
    "# Q1.What are the two values of the Boolean data type? How do you write them?\n",
    "\n",
    "# The two values of boolean data type are True(1) and False(0)\n",
    "\n",
    "print(bool(0))\n",
    "print(bool(1))"
   ]
  },
  {
   "cell_type": "markdown",
   "metadata": {},
   "source": [
    "Q2. What are the three different types of Boolean operators?\n",
    "\n",
    "ANS: The three type of Boolean operators are:\n",
    "-\tor \n",
    "-\tand\n",
    "-\tnot \n"
   ]
  },
  {
   "cell_type": "code",
   "execution_count": 4,
   "metadata": {},
   "outputs": [
    {
     "name": "stdout",
     "output_type": "stream",
     "text": [
      "True\n",
      "False\n",
      "False\n",
      "True\n",
      "False\n",
      "True\n"
     ]
    }
   ],
   "source": [
    "# Q3: . Make a list of each Boolean operator's truth tables \n",
    "# (i.e. every possible combination of Boolean values for the operator and what it evaluate ).\n",
    "\n",
    "A = True\n",
    "B = False\n",
    "print(A or B)\n",
    "print(A and B)\n",
    "print(not A) \n",
    "print(not B) \n",
    "print(A == B) \n",
    "print(A != B)\n",
    "\n"
   ]
  },
  {
   "cell_type": "code",
   "execution_count": 5,
   "metadata": {},
   "outputs": [
    {
     "name": "stdout",
     "output_type": "stream",
     "text": [
      "False\n",
      "False\n",
      "True\n",
      "False\n",
      "False\n",
      "True\n"
     ]
    }
   ],
   "source": [
    "# Q4. What are the values of the following expressions?\n",
    "\n",
    "print((5 > 4) and (3 == 5))\n",
    "print(not (5 > 4))\n",
    "print((5 > 4) or (3 == 5))\n",
    "print(not ((5 > 4) or (3 == 5)))\n",
    "print((True and True) and (True == False))\n",
    "print((not False) or (not True))"
   ]
  },
  {
   "cell_type": "markdown",
   "metadata": {},
   "source": [
    "Q5. What are the six comparison operators?\n",
    "\n",
    "ANS: The six comparison operators are:\n",
    "- Equal(==)\n",
    "- Not Equal(!=)\n",
    "- Greater Than(>)\n",
    "- Less Than(<)\n",
    "- Greater Than or Equal (>=)\n",
    "- Less Than or Equal(<=)"
   ]
  },
  {
   "cell_type": "code",
   "execution_count": 6,
   "metadata": {},
   "outputs": [
    {
     "name": "stdout",
     "output_type": "stream",
     "text": [
      "Valueof a:  10\n",
      "True\n"
     ]
    }
   ],
   "source": [
    "# Q6: . How do you tell the difference between the equal to and assignment operators?\n",
    "# Describe a condition and when you would use one.\n",
    "# Ans: The \"=\" is an assignment operator used to assign the value on the right to variable on the left.\n",
    "\n",
    "a = 10\n",
    "b = 20\n",
    "print(\"Valueof a: \",a)\n",
    "\n",
    "#  The \"==\" is an euqal to operator used to check whether the two given operator are equal or not.\n",
    "#  If equal it return True or else it returns False.\n",
    "\n",
    "print(5==5)\n"
   ]
  },
  {
   "cell_type": "code",
   "execution_count": 7,
   "metadata": {},
   "outputs": [
    {
     "name": "stdout",
     "output_type": "stream",
     "text": [
      "ham\n",
      "spam\n",
      "spam\n"
     ]
    }
   ],
   "source": [
    "# Q7:. Identify the three blocks in this code:\n",
    "# Ans: Following are the three blocks, two if blocks and one else block statements\n",
    "spam = 0\n",
    "if spam == 10:\n",
    "    print('eggs')\n",
    "if spam > 5:\n",
    "    print('bacon')\n",
    "else:\n",
    "    print('ham')\n",
    "    print('spam')\n",
    "    print('spam')\n"
   ]
  },
  {
   "cell_type": "code",
   "execution_count": 8,
   "metadata": {},
   "outputs": [
    {
     "name": "stdout",
     "output_type": "stream",
     "text": [
      "Enter any digit/number : 4\n",
      "Greetings!\n"
     ]
    }
   ],
   "source": [
    "# Q8: Write code that prints Hello if 1 is stored in spam, prints Howdy if 2 is stored in spam\n",
    "#     and prints Greetings! if anything else is stored in spam.\n",
    "\n",
    "spam = int(input(\"Enter any digit/number : \"))\n",
    "if spam == 1:\n",
    "    print(\"Hello\")\n",
    "elif spam == 2:\n",
    "    print(\"Howdy\")\n",
    "else:\n",
    "    print(\"Greetings!\")"
   ]
  },
  {
   "cell_type": "markdown",
   "metadata": {},
   "source": [
    "Q9.If your programme is stuck in an endless loop, what keys you’ll press?\n",
    "\n",
    "ANS: Interrupt kernel or close the window"
   ]
  },
  {
   "cell_type": "markdown",
   "metadata": {},
   "source": [
    " Q10: How can you tell the difference between break and continue?\n",
    " \n",
    " Ans:\n",
    " - Break statement will terminate the entire loop.\n",
    " - coninue will skip the code that comes after it and control is pass back to start next iteration."
   ]
  },
  {
   "cell_type": "markdown",
   "metadata": {},
   "source": [
    "Q11. In a for loop, what is the difference between range(10), range(0, 10) and range(0, 10, 1)?\n",
    "\n",
    "Ans: Even though the output for range(10),range(0,10) and range(0,10,1) is same.\n",
    "\n",
    "    - The difference here is in range(10) it provide the stop, in range(0,10) it provides start and \n",
    "    stop and know in range(0,10,1) additionally it contains step size to jump."
   ]
  },
  {
   "cell_type": "code",
   "execution_count": 9,
   "metadata": {},
   "outputs": [
    {
     "name": "stdout",
     "output_type": "stream",
     "text": [
      "1 t0 10 numbers using for loop.\n",
      "1\n",
      "2\n",
      "3\n",
      "4\n",
      "5\n",
      "6\n",
      "7\n",
      "8\n",
      "9\n",
      "10\n",
      "1 to 10 numbers using while loop.\n",
      "1\n",
      "2\n",
      "3\n",
      "4\n",
      "5\n",
      "6\n",
      "7\n",
      "8\n",
      "9\n",
      "10\n"
     ]
    }
   ],
   "source": [
    "# Q12. Write a short program that prints the numbers 1 to 10 using a for loop. \n",
    "# Then write an equivalent program that prints the numbers 1 to 10 using a while loop.\n",
    "print(\"1 t0 10 numbers using for loop.\")\n",
    "for i in range(1,11):\n",
    "    print(i)\n",
    "a = 1 \n",
    "print(\"1 to 10 numbers using while loop.\")\n",
    "while a<=10:\n",
    "    print(a)\n",
    "    a+=1"
   ]
  },
  {
   "cell_type": "code",
   "execution_count": null,
   "metadata": {},
   "outputs": [],
   "source": []
  }
 ],
 "metadata": {
  "kernelspec": {
   "display_name": "Python 3",
   "language": "python",
   "name": "python3"
  },
  "language_info": {
   "codemirror_mode": {
    "name": "ipython",
    "version": 3
   },
   "file_extension": ".py",
   "mimetype": "text/x-python",
   "name": "python",
   "nbconvert_exporter": "python",
   "pygments_lexer": "ipython3",
   "version": "3.8.3"
  }
 },
 "nbformat": 4,
 "nbformat_minor": 4
}
